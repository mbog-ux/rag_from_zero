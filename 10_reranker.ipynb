{
 "cells": [
  {
   "cell_type": "code",
   "execution_count": 1,
   "id": "181d2808",
   "metadata": {},
   "outputs": [
    {
     "data": {
      "text/plain": [
       "True"
      ]
     },
     "execution_count": 1,
     "metadata": {},
     "output_type": "execute_result"
    }
   ],
   "source": [
    "from langchain.retrievers import EnsembleRetriever,BM25Retriever\n",
    "from langchain_openai import OpenAIEmbeddings\n",
    "from langchain_chroma import Chroma\n",
    "from langchain_core.documents import Document\n",
    "from langchain_cohere import CohereRerank\n",
    "from dotenv import load_dotenv\n",
    "\n",
    "load_dotenv()"
   ]
  },
  {
   "cell_type": "code",
   "execution_count": 2,
   "id": "85201b17",
   "metadata": {},
   "outputs": [
    {
     "name": "stdout",
     "output_type": "stream",
     "text": [
      "Requirement already satisfied: rank_bm25 in /Library/Frameworks/Python.framework/Versions/3.11/lib/python3.11/site-packages (0.2.2)\n",
      "Requirement already satisfied: numpy in /Library/Frameworks/Python.framework/Versions/3.11/lib/python3.11/site-packages (from rank_bm25) (1.26.4)\n",
      "Note: you may need to restart the kernel to use updated packages.\n",
      "Requirement already satisfied: langchain_cohere in /Library/Frameworks/Python.framework/Versions/3.11/lib/python3.11/site-packages (0.4.6)\n",
      "Requirement already satisfied: cohere<6.0,>=5.18.0 in /Library/Frameworks/Python.framework/Versions/3.11/lib/python3.11/site-packages (from langchain_cohere) (5.18.0)\n",
      "Requirement already satisfied: langchain-community<0.4.0,>=0.3.0 in /Library/Frameworks/Python.framework/Versions/3.11/lib/python3.11/site-packages (from langchain_cohere) (0.3.27)\n",
      "Requirement already satisfied: langchain-core<0.4.0,>=0.3.76 in /Library/Frameworks/Python.framework/Versions/3.11/lib/python3.11/site-packages (from langchain_cohere) (0.3.76)\n",
      "Requirement already satisfied: pydantic<3,>=2 in /Library/Frameworks/Python.framework/Versions/3.11/lib/python3.11/site-packages (from langchain_cohere) (2.11.7)\n",
      "Requirement already satisfied: types-pyyaml<7.0.0.0,>=6.0.12.20240917 in /Library/Frameworks/Python.framework/Versions/3.11/lib/python3.11/site-packages (from langchain_cohere) (6.0.12.20250822)\n",
      "Requirement already satisfied: fastavro<2.0.0,>=1.9.4 in /Library/Frameworks/Python.framework/Versions/3.11/lib/python3.11/site-packages (from cohere<6.0,>=5.18.0->langchain_cohere) (1.12.0)\n",
      "Requirement already satisfied: httpx>=0.21.2 in /Library/Frameworks/Python.framework/Versions/3.11/lib/python3.11/site-packages (from cohere<6.0,>=5.18.0->langchain_cohere) (0.28.1)\n",
      "Requirement already satisfied: httpx-sse==0.4.0 in /Library/Frameworks/Python.framework/Versions/3.11/lib/python3.11/site-packages (from cohere<6.0,>=5.18.0->langchain_cohere) (0.4.0)\n",
      "Requirement already satisfied: pydantic-core<3.0.0,>=2.18.2 in /Library/Frameworks/Python.framework/Versions/3.11/lib/python3.11/site-packages (from cohere<6.0,>=5.18.0->langchain_cohere) (2.33.2)\n",
      "Requirement already satisfied: requests<3.0.0,>=2.0.0 in /Library/Frameworks/Python.framework/Versions/3.11/lib/python3.11/site-packages (from cohere<6.0,>=5.18.0->langchain_cohere) (2.31.0)\n",
      "Requirement already satisfied: tokenizers<1,>=0.15 in /Library/Frameworks/Python.framework/Versions/3.11/lib/python3.11/site-packages (from cohere<6.0,>=5.18.0->langchain_cohere) (0.22.0)\n",
      "Requirement already satisfied: types-requests<3.0.0,>=2.0.0 in /Library/Frameworks/Python.framework/Versions/3.11/lib/python3.11/site-packages (from cohere<6.0,>=5.18.0->langchain_cohere) (2.32.4.20250913)\n",
      "Requirement already satisfied: typing_extensions>=4.0.0 in /Library/Frameworks/Python.framework/Versions/3.11/lib/python3.11/site-packages (from cohere<6.0,>=5.18.0->langchain_cohere) (4.12.2)\n",
      "Requirement already satisfied: langchain<1.0.0,>=0.3.26 in /Library/Frameworks/Python.framework/Versions/3.11/lib/python3.11/site-packages (from langchain-community<0.4.0,>=0.3.0->langchain_cohere) (0.3.27)\n",
      "Requirement already satisfied: SQLAlchemy<3,>=1.4 in /Library/Frameworks/Python.framework/Versions/3.11/lib/python3.11/site-packages (from langchain-community<0.4.0,>=0.3.0->langchain_cohere) (1.4.48)\n",
      "Requirement already satisfied: PyYAML>=5.3 in /Library/Frameworks/Python.framework/Versions/3.11/lib/python3.11/site-packages (from langchain-community<0.4.0,>=0.3.0->langchain_cohere) (6.0)\n",
      "Requirement already satisfied: aiohttp<4.0.0,>=3.8.3 in /Library/Frameworks/Python.framework/Versions/3.11/lib/python3.11/site-packages (from langchain-community<0.4.0,>=0.3.0->langchain_cohere) (3.12.15)\n",
      "Requirement already satisfied: tenacity!=8.4.0,<10,>=8.1.0 in /Library/Frameworks/Python.framework/Versions/3.11/lib/python3.11/site-packages (from langchain-community<0.4.0,>=0.3.0->langchain_cohere) (9.1.2)\n",
      "Requirement already satisfied: dataclasses-json<0.7,>=0.5.7 in /Library/Frameworks/Python.framework/Versions/3.11/lib/python3.11/site-packages (from langchain-community<0.4.0,>=0.3.0->langchain_cohere) (0.6.7)\n",
      "Requirement already satisfied: pydantic-settings<3.0.0,>=2.4.0 in /Library/Frameworks/Python.framework/Versions/3.11/lib/python3.11/site-packages (from langchain-community<0.4.0,>=0.3.0->langchain_cohere) (2.10.1)\n",
      "Requirement already satisfied: langsmith>=0.1.125 in /Library/Frameworks/Python.framework/Versions/3.11/lib/python3.11/site-packages (from langchain-community<0.4.0,>=0.3.0->langchain_cohere) (0.4.14)\n",
      "Requirement already satisfied: numpy>=1.26.2 in /Library/Frameworks/Python.framework/Versions/3.11/lib/python3.11/site-packages (from langchain-community<0.4.0,>=0.3.0->langchain_cohere) (1.26.4)\n",
      "Requirement already satisfied: aiohappyeyeballs>=2.5.0 in /Library/Frameworks/Python.framework/Versions/3.11/lib/python3.11/site-packages (from aiohttp<4.0.0,>=3.8.3->langchain-community<0.4.0,>=0.3.0->langchain_cohere) (2.6.1)\n",
      "Requirement already satisfied: aiosignal>=1.4.0 in /Library/Frameworks/Python.framework/Versions/3.11/lib/python3.11/site-packages (from aiohttp<4.0.0,>=3.8.3->langchain-community<0.4.0,>=0.3.0->langchain_cohere) (1.4.0)\n",
      "Requirement already satisfied: attrs>=17.3.0 in /Library/Frameworks/Python.framework/Versions/3.11/lib/python3.11/site-packages (from aiohttp<4.0.0,>=3.8.3->langchain-community<0.4.0,>=0.3.0->langchain_cohere) (23.1.0)\n",
      "Requirement already satisfied: frozenlist>=1.1.1 in /Library/Frameworks/Python.framework/Versions/3.11/lib/python3.11/site-packages (from aiohttp<4.0.0,>=3.8.3->langchain-community<0.4.0,>=0.3.0->langchain_cohere) (1.7.0)\n",
      "Requirement already satisfied: multidict<7.0,>=4.5 in /Library/Frameworks/Python.framework/Versions/3.11/lib/python3.11/site-packages (from aiohttp<4.0.0,>=3.8.3->langchain-community<0.4.0,>=0.3.0->langchain_cohere) (6.6.4)\n",
      "Requirement already satisfied: propcache>=0.2.0 in /Library/Frameworks/Python.framework/Versions/3.11/lib/python3.11/site-packages (from aiohttp<4.0.0,>=3.8.3->langchain-community<0.4.0,>=0.3.0->langchain_cohere) (0.3.2)\n",
      "Requirement already satisfied: yarl<2.0,>=1.17.0 in /Library/Frameworks/Python.framework/Versions/3.11/lib/python3.11/site-packages (from aiohttp<4.0.0,>=3.8.3->langchain-community<0.4.0,>=0.3.0->langchain_cohere) (1.20.1)\n",
      "Requirement already satisfied: marshmallow<4.0.0,>=3.18.0 in /Library/Frameworks/Python.framework/Versions/3.11/lib/python3.11/site-packages (from dataclasses-json<0.7,>=0.5.7->langchain-community<0.4.0,>=0.3.0->langchain_cohere) (3.26.1)\n",
      "Requirement already satisfied: typing-inspect<1,>=0.4.0 in /Library/Frameworks/Python.framework/Versions/3.11/lib/python3.11/site-packages (from dataclasses-json<0.7,>=0.5.7->langchain-community<0.4.0,>=0.3.0->langchain_cohere) (0.9.0)\n",
      "Requirement already satisfied: langchain-text-splitters<1.0.0,>=0.3.9 in /Library/Frameworks/Python.framework/Versions/3.11/lib/python3.11/site-packages (from langchain<1.0.0,>=0.3.26->langchain-community<0.4.0,>=0.3.0->langchain_cohere) (0.3.9)\n",
      "Requirement already satisfied: jsonpatch<2.0,>=1.33 in /Library/Frameworks/Python.framework/Versions/3.11/lib/python3.11/site-packages (from langchain-core<0.4.0,>=0.3.76->langchain_cohere) (1.33)\n",
      "Requirement already satisfied: packaging>=23.2 in /Library/Frameworks/Python.framework/Versions/3.11/lib/python3.11/site-packages (from langchain-core<0.4.0,>=0.3.76->langchain_cohere) (25.0)\n",
      "Requirement already satisfied: jsonpointer>=1.9 in /Library/Frameworks/Python.framework/Versions/3.11/lib/python3.11/site-packages (from jsonpatch<2.0,>=1.33->langchain-core<0.4.0,>=0.3.76->langchain_cohere) (2.4)\n",
      "Requirement already satisfied: annotated-types>=0.6.0 in /Library/Frameworks/Python.framework/Versions/3.11/lib/python3.11/site-packages (from pydantic<3,>=2->langchain_cohere) (0.7.0)\n",
      "Requirement already satisfied: typing-inspection>=0.4.0 in /Library/Frameworks/Python.framework/Versions/3.11/lib/python3.11/site-packages (from pydantic<3,>=2->langchain_cohere) (0.4.1)\n",
      "Requirement already satisfied: python-dotenv>=0.21.0 in /Library/Frameworks/Python.framework/Versions/3.11/lib/python3.11/site-packages (from pydantic-settings<3.0.0,>=2.4.0->langchain-community<0.4.0,>=0.3.0->langchain_cohere) (1.0.0)\n",
      "Requirement already satisfied: charset-normalizer<4,>=2 in /Library/Frameworks/Python.framework/Versions/3.11/lib/python3.11/site-packages (from requests<3.0.0,>=2.0.0->cohere<6.0,>=5.18.0->langchain_cohere) (3.1.0)\n",
      "Requirement already satisfied: idna<4,>=2.5 in /Library/Frameworks/Python.framework/Versions/3.11/lib/python3.11/site-packages (from requests<3.0.0,>=2.0.0->cohere<6.0,>=5.18.0->langchain_cohere) (3.4)\n",
      "Requirement already satisfied: urllib3<3,>=1.21.1 in /Library/Frameworks/Python.framework/Versions/3.11/lib/python3.11/site-packages (from requests<3.0.0,>=2.0.0->cohere<6.0,>=5.18.0->langchain_cohere) (2.5.0)\n",
      "Requirement already satisfied: certifi>=2017.4.17 in /Library/Frameworks/Python.framework/Versions/3.11/lib/python3.11/site-packages (from requests<3.0.0,>=2.0.0->cohere<6.0,>=5.18.0->langchain_cohere) (2023.5.7)\n",
      "Requirement already satisfied: huggingface-hub<1.0,>=0.16.4 in /Library/Frameworks/Python.framework/Versions/3.11/lib/python3.11/site-packages (from tokenizers<1,>=0.15->cohere<6.0,>=5.18.0->langchain_cohere) (0.34.4)\n",
      "Requirement already satisfied: filelock in /Library/Frameworks/Python.framework/Versions/3.11/lib/python3.11/site-packages (from huggingface-hub<1.0,>=0.16.4->tokenizers<1,>=0.15->cohere<6.0,>=5.18.0->langchain_cohere) (3.15.4)\n",
      "Requirement already satisfied: fsspec>=2023.5.0 in /Library/Frameworks/Python.framework/Versions/3.11/lib/python3.11/site-packages (from huggingface-hub<1.0,>=0.16.4->tokenizers<1,>=0.15->cohere<6.0,>=5.18.0->langchain_cohere) (2024.6.1)\n",
      "Requirement already satisfied: tqdm>=4.42.1 in /Library/Frameworks/Python.framework/Versions/3.11/lib/python3.11/site-packages (from huggingface-hub<1.0,>=0.16.4->tokenizers<1,>=0.15->cohere<6.0,>=5.18.0->langchain_cohere) (4.65.0)\n",
      "Requirement already satisfied: hf-xet<2.0.0,>=1.1.3 in /Library/Frameworks/Python.framework/Versions/3.11/lib/python3.11/site-packages (from huggingface-hub<1.0,>=0.16.4->tokenizers<1,>=0.15->cohere<6.0,>=5.18.0->langchain_cohere) (1.1.7)\n",
      "Requirement already satisfied: mypy-extensions>=0.3.0 in /Library/Frameworks/Python.framework/Versions/3.11/lib/python3.11/site-packages (from typing-inspect<1,>=0.4.0->dataclasses-json<0.7,>=0.5.7->langchain-community<0.4.0,>=0.3.0->langchain_cohere) (1.1.0)\n",
      "Requirement already satisfied: anyio in /Library/Frameworks/Python.framework/Versions/3.11/lib/python3.11/site-packages (from httpx>=0.21.2->cohere<6.0,>=5.18.0->langchain_cohere) (3.7.0)\n",
      "Requirement already satisfied: httpcore==1.* in /Library/Frameworks/Python.framework/Versions/3.11/lib/python3.11/site-packages (from httpx>=0.21.2->cohere<6.0,>=5.18.0->langchain_cohere) (1.0.9)\n",
      "Requirement already satisfied: h11>=0.16 in /Library/Frameworks/Python.framework/Versions/3.11/lib/python3.11/site-packages (from httpcore==1.*->httpx>=0.21.2->cohere<6.0,>=5.18.0->langchain_cohere) (0.16.0)\n",
      "Requirement already satisfied: orjson>=3.9.14 in /Library/Frameworks/Python.framework/Versions/3.11/lib/python3.11/site-packages (from langsmith>=0.1.125->langchain-community<0.4.0,>=0.3.0->langchain_cohere) (3.11.2)\n",
      "Requirement already satisfied: requests-toolbelt>=1.0.0 in /Library/Frameworks/Python.framework/Versions/3.11/lib/python3.11/site-packages (from langsmith>=0.1.125->langchain-community<0.4.0,>=0.3.0->langchain_cohere) (1.0.0)\n",
      "Requirement already satisfied: zstandard>=0.23.0 in /Library/Frameworks/Python.framework/Versions/3.11/lib/python3.11/site-packages (from langsmith>=0.1.125->langchain-community<0.4.0,>=0.3.0->langchain_cohere) (0.24.0)\n",
      "Requirement already satisfied: sniffio>=1.1 in /Library/Frameworks/Python.framework/Versions/3.11/lib/python3.11/site-packages (from anyio->httpx>=0.21.2->cohere<6.0,>=5.18.0->langchain_cohere) (1.3.0)\n",
      "Note: you may need to restart the kernel to use updated packages.\n"
     ]
    }
   ],
   "source": [
    "%pip install rank_bm25\n",
    "%pip install langchain_cohere\n"
   ]
  },
  {
   "cell_type": "code",
   "execution_count": 11,
   "id": "dffbbe4a",
   "metadata": {},
   "outputs": [
    {
     "name": "stdout",
     "output_type": "stream",
     "text": [
      "Created 60 sample chunks for demonstration\n"
     ]
    }
   ],
   "source": [
    "chunks = [\n",
    "    # Tesla - Financial & Production\n",
    "    \"Tesla reported record quarterly revenue of $25.2 billion in Q3 2024.\",\n",
    "    \"Tesla's automotive gross margin improved to 19.3% this quarter.\",\n",
    "    \"Tesla Cybertruck production ramp begins in 2024 with initial deliveries.\",\n",
    "    \"Tesla announced plans to expand Gigafactory production capacity.\",\n",
    "    \"Tesla stock price reached new highs following earnings announcement.\",\n",
    "    \"Tesla's energy storage business grew 40% year-over-year.\",\n",
    "    \"Tesla continues to lead in electric vehicle market share globally.\",\n",
    "    \"Tesla Model Y became the best-selling vehicle worldwide.\",\n",
    "    \"Tesla reported strong free cash flow generation of $7.5 billion.\",\n",
    "    \"Tesla's Full Self-Driving revenue increased significantly.\",\n",
    "    \n",
    "    # Microsoft - Development & Acquisitions\n",
    "    \"Microsoft acquired GitHub for $7.5 billion in 2018.\",\n",
    "    \"Microsoft's cloud revenue Azure grew 29% year-over-year.\",\n",
    "    \"Microsoft announced new AI features for Visual Studio Code.\",\n",
    "    \"Microsoft Teams integration with GitHub enhances developer workflow.\",\n",
    "    \"Microsoft's developer tools division sees strong adoption.\",\n",
    "    \"Microsoft acquired Activision Blizzard for $68.7 billion.\",\n",
    "    \"Microsoft's productivity suite gained 50 million new users.\",\n",
    "    \"Microsoft announced new Surface devices for developers.\",\n",
    "    \"Microsoft's AI Copilot features expand to more development tools.\",\n",
    "    \"Microsoft's enterprise solutions drive revenue growth.\",\n",
    "    \n",
    "    # NVIDIA - AI & Hardware\n",
    "    \"NVIDIA's data center revenue reached $47.5 billion annually.\",\n",
    "    \"NVIDIA's H100 GPUs see unprecedented demand for AI training.\",\n",
    "    \"NVIDIA announced next-generation Blackwell architecture.\",\n",
    "    \"NVIDIA's gaming revenue declined due to crypto market changes.\",\n",
    "    \"NVIDIA's automotive AI platform partnerships expanded.\",\n",
    "    \"NVIDIA's AI chip shortage affects cloud providers.\",\n",
    "    \"NVIDIA stock valuation exceeds $2 trillion market cap.\",\n",
    "    \"NVIDIA's CUDA platform dominates AI development.\",\n",
    "    \"NVIDIA announced new AI inference chips for edge computing.\",\n",
    "    \"NVIDIA's partnership with major cloud providers strengthens.\",\n",
    "    \n",
    "    # Google/Alphabet - AI & Cloud\n",
    "    \"Google's AI investments total over $100 billion in recent years.\",\n",
    "    \"Google Cloud revenue grew 35% reaching $8.4 billion quarterly.\",\n",
    "    \"Google announced Gemini AI model competing with GPT-4.\",\n",
    "    \"Google's search advertising revenue remains strong at $59 billion.\",\n",
    "    \"Google's Workspace products integrate advanced AI features.\",\n",
    "    \"Google announced quantum computing breakthroughs.\",\n",
    "    \"Google's autonomous vehicle division Waymo expands operations.\",\n",
    "    \"Google's AI research published breakthrough papers.\",\n",
    "    \"Google's cloud AI services see enterprise adoption.\",\n",
    "    \"Google faces regulatory scrutiny over AI dominance.\",\n",
    "    \n",
    "    # Noisy/Less Relevant Chunks\n",
    "    \"The Tesla coil was invented by Nikola Tesla in 1891.\",\n",
    "    \"Microsoft Excel spreadsheet formulas can be complex for beginners.\",\n",
    "    \"NVIDIA Shield TV streaming device gets software update.\",\n",
    "    \"Google Maps navigation improved with real-time traffic data.\",\n",
    "    \"Production delays affected multiple manufacturing sectors.\",\n",
    "    \"Financial markets showed volatility during earnings season.\",\n",
    "    \"Revenue recognition standards changed for software companies.\",\n",
    "    \"Hardware components face supply chain constraints globally.\",\n",
    "    \"Development tools market grows with remote work trends.\",\n",
    "    \"AI research requires significant computational resources.\",\n",
    "    \"Quarterly reports show mixed results across tech sector.\",\n",
    "    \"Stock market analysts upgrade technology sector ratings.\",\n",
    "    \"Cloud computing adoption accelerates in enterprise market.\",\n",
    "    \"Data center construction increases globally.\",\n",
    "    \"Semiconductor shortage impacts various industries.\",\n",
    "    \"Electric vehicle charging infrastructure expands rapidly.\",\n",
    "    \"Software development productivity tools gain popularity.\",\n",
    "    \"Machine learning frameworks become more accessible.\",\n",
    "    \"Enterprise software licensing models evolve.\",\n",
    "    \"Technology conferences showcase latest innovations.\"\n",
    "]\n",
    "\n",
    "print(f\"Created {len(chunks)} sample chunks for demonstration\")"
   ]
  },
  {
   "cell_type": "code",
   "execution_count": 12,
   "id": "a7000d2b",
   "metadata": {},
   "outputs": [
    {
     "name": "stdout",
     "output_type": "stream",
     "text": [
      "Simple Data: \n",
      "\n",
      "============================================================\n",
      "0. Tesla reported record quarterly revenue of $25.2 billion in Q3 2024.\n",
      "1. Tesla's automotive gross margin improved to 19.3% this quarter.\n",
      "2. Tesla Cybertruck production ramp begins in 2024 with initial deliveries.\n",
      "3. Tesla announced plans to expand Gigafactory production capacity.\n",
      "4. Tesla stock price reached new highs following earnings announcement.\n",
      "5. Tesla's energy storage business grew 40% year-over-year.\n",
      "6. Tesla continues to lead in electric vehicle market share globally.\n",
      "7. Tesla Model Y became the best-selling vehicle worldwide.\n",
      "8. Tesla reported strong free cash flow generation of $7.5 billion.\n",
      "9. Tesla's Full Self-Driving revenue increased significantly.\n",
      "10. Microsoft acquired GitHub for $7.5 billion in 2018.\n",
      "11. Microsoft's cloud revenue Azure grew 29% year-over-year.\n",
      "12. Microsoft announced new AI features for Visual Studio Code.\n",
      "13. Microsoft Teams integration with GitHub enhances developer workflow.\n",
      "14. Microsoft's developer tools division sees strong adoption.\n",
      "15. Microsoft acquired Activision Blizzard for $68.7 billion.\n",
      "16. Microsoft's productivity suite gained 50 million new users.\n",
      "17. Microsoft announced new Surface devices for developers.\n",
      "18. Microsoft's AI Copilot features expand to more development tools.\n",
      "19. Microsoft's enterprise solutions drive revenue growth.\n",
      "20. NVIDIA's data center revenue reached $47.5 billion annually.\n",
      "21. NVIDIA's H100 GPUs see unprecedented demand for AI training.\n",
      "22. NVIDIA announced next-generation Blackwell architecture.\n",
      "23. NVIDIA's gaming revenue declined due to crypto market changes.\n",
      "24. NVIDIA's automotive AI platform partnerships expanded.\n",
      "25. NVIDIA's AI chip shortage affects cloud providers.\n",
      "26. NVIDIA stock valuation exceeds $2 trillion market cap.\n",
      "27. NVIDIA's CUDA platform dominates AI development.\n",
      "28. NVIDIA announced new AI inference chips for edge computing.\n",
      "29. NVIDIA's partnership with major cloud providers strengthens.\n",
      "30. Google's AI investments total over $100 billion in recent years.\n",
      "31. Google Cloud revenue grew 35% reaching $8.4 billion quarterly.\n",
      "32. Google announced Gemini AI model competing with GPT-4.\n",
      "33. Google's search advertising revenue remains strong at $59 billion.\n",
      "34. Google's Workspace products integrate advanced AI features.\n",
      "35. Google announced quantum computing breakthroughs.\n",
      "36. Google's autonomous vehicle division Waymo expands operations.\n",
      "37. Google's AI research published breakthrough papers.\n",
      "38. Google's cloud AI services see enterprise adoption.\n",
      "39. Google faces regulatory scrutiny over AI dominance.\n",
      "40. The Tesla coil was invented by Nikola Tesla in 1891.\n",
      "41. Microsoft Excel spreadsheet formulas can be complex for beginners.\n",
      "42. NVIDIA Shield TV streaming device gets software update.\n",
      "43. Google Maps navigation improved with real-time traffic data.\n",
      "44. Production delays affected multiple manufacturing sectors.\n",
      "45. Financial markets showed volatility during earnings season.\n",
      "46. Revenue recognition standards changed for software companies.\n",
      "47. Hardware components face supply chain constraints globally.\n",
      "48. Development tools market grows with remote work trends.\n",
      "49. AI research requires significant computational resources.\n",
      "50. Quarterly reports show mixed results across tech sector.\n",
      "51. Stock market analysts upgrade technology sector ratings.\n",
      "52. Cloud computing adoption accelerates in enterprise market.\n",
      "53. Data center construction increases globally.\n",
      "54. Semiconductor shortage impacts various industries.\n",
      "55. Electric vehicle charging infrastructure expands rapidly.\n",
      "56. Software development productivity tools gain popularity.\n",
      "57. Machine learning frameworks become more accessible.\n",
      "58. Enterprise software licensing models evolve.\n",
      "59. Technology conferences showcase latest innovations.\n",
      "\n",
      "============================================================\n"
     ]
    }
   ],
   "source": [
    "documents = [Document(page_content=chunk,metadata={\"source\":f\"chunk_{i}\"}) for i,chunk in enumerate(chunks)]\n",
    "\n",
    "print(\"Simple Data: \")\n",
    "print('\\n'+'='*60)\n",
    "\n",
    "for i,docs in enumerate(documents):\n",
    "    print(f\"{i}. {docs.page_content}\")\n",
    "print('\\n'+'='*60)"
   ]
  },
  {
   "cell_type": "code",
   "execution_count": 13,
   "id": "762a8361",
   "metadata": {},
   "outputs": [
    {
     "name": "stdout",
     "output_type": "stream",
     "text": [
      "Setting Up vector Retriever...\n"
     ]
    }
   ],
   "source": [
    "print(\"Setting Up vector Retriever...\")\n",
    "embedding_model = OpenAIEmbeddings(model = \"text-embedding-3-small\")\n",
    "vectorstore = Chroma.from_documents(\n",
    "    documents = documents,\n",
    "    embedding = embedding_model,\n",
    "    collection_metadata= {\"hnsw:space\":\"cosine\"}\n",
    ")"
   ]
  },
  {
   "cell_type": "markdown",
   "id": "09e9e7a3",
   "metadata": {},
   "source": [
    "### 1. Vectore Retriever"
   ]
  },
  {
   "cell_type": "code",
   "execution_count": 15,
   "id": "1f4d9f26",
   "metadata": {},
   "outputs": [
    {
     "name": "stdout",
     "output_type": "stream",
     "text": [
      "Testing: 'space exploration company'\n",
      "Found 0. SpaceX develops Starship rockets for Mars missions....\n",
      "Found 1. Microsoft is a large technology company with global operations...\n",
      "Found 2. Cybertruck reservations exceeded company expectations....\n",
      "Found 3. Microsoft's enterprise solutions drive revenue growth....\n",
      "Found 4. Google's autonomous vehicle division Waymo expands operations....\n",
      "Found 5. Microsoft's AI Copilot features expand to more development tools....\n",
      "Found 6. NVIDIA designs Starship architecture for their new GPUs....\n",
      "Found 7. Tesla stock price reached new highs following earnings announcement....\n",
      "Found 8. Google is a large technology company with global operations....\n",
      "Found 9. Technology conferences showcase latest innovations....\n",
      "Found 10. Stock market analysts upgrade technology sector ratings....\n",
      "Found 11. Tesla's energy storage business grew 40% year-over-year....\n",
      "Found 12. NVIDIA stock valuation exceeds $2 trillion market cap....\n",
      "Found 13. NVIDIA's automotive AI platform partnerships expanded....\n",
      "Found 14. The tech giant acquired the code repository platform for software development....\n"
     ]
    }
   ],
   "source": [
    "vector_retriever = vectorstore.as_retriever(\n",
    "    search_kwargs={\"k\":15}\n",
    ")\n",
    "\n",
    "test_query = \"space exploration company\"\n",
    "\n",
    "\n",
    "print(f\"Testing: '{test_query}'\")\n",
    "test_docs = vector_retriever.invoke(test_query)\n",
    "\n",
    "for i,doc in enumerate(test_docs):\n",
    "    print(f\"Found {i}. {doc.page_content[:250]}...\")"
   ]
  },
  {
   "cell_type": "markdown",
   "id": "d1619ccd",
   "metadata": {},
   "source": [
    "### 2. BM25 Retriever"
   ]
  },
  {
   "cell_type": "code",
   "execution_count": 16,
   "id": "c66d4093",
   "metadata": {},
   "outputs": [
    {
     "name": "stdout",
     "output_type": "stream",
     "text": [
      "Setting BM25 Retriever...\n",
      "Testing: 'Tesla'\n",
      "Found 0. The Tesla coil was invented by Nikola Tesla in 1891....\n",
      "Found 1. Tesla Model Y became the best-selling vehicle worldwide....\n",
      "Found 2. Tesla announced plans to expand Gigafactory production capacity....\n",
      "Found 3. Tesla stock price reached new highs following earnings announcement....\n",
      "Found 4. Tesla continues to lead in electric vehicle market share globally....\n",
      "Found 5. Tesla reported strong free cash flow generation of $7.5 billion....\n",
      "Found 6. Tesla Cybertruck production ramp begins in 2024 with initial deliveries....\n",
      "Found 7. Tesla reported record quarterly revenue of $25.2 billion in Q3 2024....\n",
      "Found 8. NVIDIA's AI chip shortage affects cloud providers....\n",
      "Found 9. NVIDIA stock valuation exceeds $2 trillion market cap....\n",
      "Found 10. Microsoft announced new Surface devices for developers....\n",
      "Found 11. NVIDIA's automotive AI platform partnerships expanded....\n",
      "Found 12. NVIDIA's gaming revenue declined due to crypto market changes....\n",
      "Found 13. NVIDIA announced next-generation Blackwell architecture....\n",
      "Found 14. NVIDIA's H100 GPUs see unprecedented demand for AI training....\n"
     ]
    }
   ],
   "source": [
    "print('Setting BM25 Retriever...')\n",
    "bm25_retriever   = BM25Retriever.from_documents(documents)\n",
    "bm25_retriever.k = 15\n",
    "\n",
    "test_query = \"Tesla\"\n",
    "\n",
    "print(f\"Testing: '{test_query}'\")\n",
    "test_docs = bm25_retriever.invoke(test_query)\n",
    "\n",
    "for i,doc in enumerate(test_docs):\n",
    "    print(f\"Found {i}. {doc.page_content[:250]}...\")\n"
   ]
  },
  {
   "cell_type": "markdown",
   "id": "cc352acb",
   "metadata": {},
   "source": [
    "### 3. Hybrid Retriever"
   ]
  },
  {
   "cell_type": "code",
   "execution_count": 21,
   "id": "057fd184",
   "metadata": {},
   "outputs": [
    {
     "name": "stdout",
     "output_type": "stream",
     "text": [
      "Setting up Hydribd Retriever\n",
      "Testing: 'Purching cost 7.5 billion'\n",
      "Found 0. Microsoft acquired GitHub for $7.5 billion in 2018....\n",
      "Found 1. Microsoft acquired Activision Blizzard for $68.7 billion....\n",
      "Found 2. NVIDIA's data center revenue reached $47.5 billion annually....\n",
      "Found 3. NVIDIA stock valuation exceeds $2 trillion market cap....\n",
      "Found 4. Google Cloud revenue grew 35% reaching $8.4 billion quarterly....\n",
      "Found 5. Google's AI investments total over $100 billion in recent years....\n",
      "Found 6. Tesla reported record quarterly revenue of $25.2 billion in Q3 2024....\n",
      "Found 7. Microsoft acquired GitHub for 7.5 billion dollars in 2018....\n",
      "Found 8. Data center construction increases globally....\n",
      "Found 9. Tesla reported strong free cash flow generation of $7.5 billion....\n",
      "Found 10. Hardware components face supply chain constraints globally....\n",
      "Found 11. Production delays affected multiple manufacturing sectors....\n",
      "Found 12. Google's search advertising revenue remains strong at $59 billion....\n",
      "Found 13. The tech giant acquired the code repository platform for software development....\n",
      "Found 14. Cybertruck reservations exceeded company expectations....\n",
      "Found 15. NVIDIA's AI chip shortage affects cloud providers....\n",
      "Found 16. NVIDIA's automotive AI platform partnerships expanded....\n",
      "Found 17. NVIDIA's gaming revenue declined due to crypto market changes....\n",
      "Found 18. NVIDIA announced next-generation Blackwell architecture....\n",
      "Found 19. NVIDIA's H100 GPUs see unprecedented demand for AI training....\n",
      "Found 20. Microsoft's enterprise solutions drive revenue growth....\n",
      "Found 21. Microsoft's AI Copilot features expand to more development tools....\n",
      "Found 22. Microsoft announced new Surface devices for developers....\n"
     ]
    }
   ],
   "source": [
    "print(\"Setting up Hydribd Retriever\")\n",
    "bm25_retriever.k = 15\n",
    "\n",
    "hybrid_retriever = EnsembleRetriever(\n",
    "    retrievers=[vector_retriever,bm25_retriever],\n",
    "    weights=[0.7,0.3]\n",
    ")\n",
    "\n",
    "test_query = 'Purching cost 7.5 billion'\n",
    "print(f\"Testing: '{test_query}'\")\n",
    "retrieved_docs = hybrid_retriever.invoke(test_query)\n",
    "\n",
    "for i,doc in enumerate(test_docs):\n",
    "    print(f\"Found {i}. {doc.page_content[:250]}...\")"
   ]
  },
  {
   "cell_type": "code",
   "execution_count": 22,
   "id": "3445a013",
   "metadata": {},
   "outputs": [
    {
     "name": "stdout",
     "output_type": "stream",
     "text": [
      "STEP 2: After Cohere Reranking (Top 10)\n",
      "--------------------------------------------------\n",
      " 1. Tesla reported strong free cash flow generation of $7.5 billion.\n",
      " 2. Tesla reported record quarterly revenue of $25.2 billion in Q3 2024.\n",
      " 3. Production delays affected multiple manufacturing sectors.\n",
      " 4. Cybertruck reservations exceeded company expectations.\n",
      " 5. NVIDIA's data center revenue reached $47.5 billion annually.\n",
      " 6. Hardware components face supply chain constraints globally.\n",
      " 7. Google Cloud revenue grew 35% reaching $8.4 billion quarterly.\n",
      " 8. Data center construction increases globally.\n",
      " 9. Google's search advertising revenue remains strong at $59 billion.\n",
      "10. NVIDIA stock valuation exceeds $2 trillion market cap.\n",
      "\n",
      "================================================================================\n",
      "ANALYSIS:\n",
      "✅ Hybrid Search: Mixed relevant and irrelevant results\n",
      "✅ Reranking: Most relevant Tesla financial/production info at top\n",
      "✅ Notice how reranking moved the most contextually relevant chunks higher\n",
      "\n",
      "================================================================================\n",
      "KEY IMPROVEMENTS AFTER RERANKING:\n",
      "----------------------------------------\n",
      "BEFORE (Hybrid Top 3):\n",
      "  1. Microsoft acquired GitHub for $7.5 billion in 2018.\n",
      "  2. Microsoft acquired Activision Blizzard for $68.7 billion.\n",
      "  3. NVIDIA's data center revenue reached $47.5 billion annually.\n",
      "  4. NVIDIA stock valuation exceeds $2 trillion market cap.\n",
      "  5. Google Cloud revenue grew 35% reaching $8.4 billion quarterly.\n",
      "\n",
      "AFTER (Reranked Top 3):\n",
      "  1. Tesla reported strong free cash flow generation of $7.5 billion.\n",
      "  2. Tesla reported record quarterly revenue of $25.2 billion in Q3 2024.\n",
      "  3. Production delays affected multiple manufacturing sectors.\n",
      "  4. Cybertruck reservations exceeded company expectations.\n",
      "  5. NVIDIA's data center revenue reached $47.5 billion annually.\n"
     ]
    }
   ],
   "source": [
    "query = \"Tesla financial performance and production updates\"\n",
    "\n",
    "print(\"STEP 2: After Cohere Reranking (Top 10)\")\n",
    "print(\"-\"*50)\n",
    "\n",
    "# Initialize Cohere reranker\n",
    "reranker = CohereRerank(model=\"rerank-english-v3.0\", top_n=10)\n",
    "\n",
    "# Rerank the retrieved documents\n",
    "reranked_docs = reranker.compress_documents(retrieved_docs, query)\n",
    "\n",
    "# Show reranked results\n",
    "for i, doc in enumerate(reranked_docs, 1):\n",
    "    print(f\"{i:2d}. {doc.page_content}\")\n",
    "\n",
    "print(\"\\n\" + \"=\"*80)\n",
    "print(\"ANALYSIS:\")\n",
    "print(\"✅ Hybrid Search: Mixed relevant and irrelevant results\")\n",
    "print(\"✅ Reranking: Most relevant Tesla financial/production info at top\")\n",
    "print(\"✅ Notice how reranking moved the most contextually relevant chunks higher\")\n",
    "\n",
    "# Optional: Show the difference more clearly\n",
    "print(\"\\n\" + \"=\"*80)\n",
    "print(\"KEY IMPROVEMENTS AFTER RERANKING:\")\n",
    "print(\"-\"*40)\n",
    "\n",
    "\n",
    "hybrid_top_5 = [doc.page_content for doc in retrieved_docs[:5]]\n",
    "reranked_top_5= [doc.page_content for doc in reranked_docs[:5]]\n",
    "\n",
    "print(\"BEFORE (Hybrid Top 3):\")\n",
    "for i, content in enumerate(hybrid_top_5, 1):\n",
    "    print(f\"  {i}. {content}\")\n",
    "\n",
    "print(\"\\nAFTER (Reranked Top 3):\")\n",
    "for i, content in enumerate(reranked_top_5, 1):\n",
    "    print(f\"  {i}. {content}\")"
   ]
  },
  {
   "cell_type": "code",
   "execution_count": 23,
   "id": "62d9c2ac",
   "metadata": {},
   "outputs": [
    {
     "name": "stdout",
     "output_type": "stream",
     "text": [
      "\n",
      "================================================================================\n",
      "FINAL: RAG with Reranked Context\n",
      "----------------------------------------\n",
      "Generated Response:\n",
      "Tesla reported strong financial performance with a significant free cash flow generation of $7.5 billion. Additionally, they achieved record quarterly revenue of $25.2 billion in Q3 2024. However, production delays have affected multiple manufacturing sectors. Despite these challenges, Tesla's Cybertruck reservations have exceeded the company's expectations.\n"
     ]
    }
   ],
   "source": [
    "from langchain_core.messages import HumanMessage, SystemMessage\n",
    "from langchain_openai import ChatOpenAI\n",
    "\n",
    "print(\"\\n\" + \"=\"*80)\n",
    "print(\"FINAL: RAG with Reranked Context\")\n",
    "print(\"-\"*40)\n",
    "\n",
    "# Use top 5 reranked documents for final answer\n",
    "top_reranked = reranked_docs[:5]\n",
    "\n",
    "combined_input = f\"\"\"Based on the following documents, please answer this question: {query}\n",
    "\n",
    "Documents:\n",
    "{chr(10).join([f\"- {doc.page_content}\" for doc in top_reranked])}\n",
    "\n",
    "Please provide a clear, helpful answer using only the information from these documents.\"\"\"\n",
    "\n",
    "model = ChatOpenAI(model=\"gpt-4o\")\n",
    "messages = [\n",
    "    SystemMessage(content=\"You are a helpful assistant.\"),\n",
    "    HumanMessage(content=combined_input),\n",
    "]\n",
    "\n",
    "result = model.invoke(messages)\n",
    "print(\"Generated Response:\")\n",
    "print(result.content)"
   ]
  },
  {
   "cell_type": "code",
   "execution_count": null,
   "id": "2803117f",
   "metadata": {},
   "outputs": [],
   "source": []
  }
 ],
 "metadata": {
  "kernelspec": {
   "display_name": "Python 3",
   "language": "python",
   "name": "python3"
  },
  "language_info": {
   "codemirror_mode": {
    "name": "ipython",
    "version": 3
   },
   "file_extension": ".py",
   "mimetype": "text/x-python",
   "name": "python",
   "nbconvert_exporter": "python",
   "pygments_lexer": "ipython3",
   "version": "3.11.4"
  }
 },
 "nbformat": 4,
 "nbformat_minor": 5
}
