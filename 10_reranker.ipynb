{
 "cells": [
  {
   "cell_type": "code",
   "execution_count": 4,
   "id": "181d2808",
   "metadata": {},
   "outputs": [
    {
     "data": {
      "text/plain": [
       "True"
      ]
     },
     "execution_count": 4,
     "metadata": {},
     "output_type": "execute_result"
    }
   ],
   "source": [
    "from langchain.retrievers import EnsembleRetriever,BM25Retriever\n",
    "from langchain_openai import OpenAIEmbeddings\n",
    "from langchain_chroma import Chroma\n",
    "from langchain_core.documents import Document\n",
    "from langchain_cohere import CohereRerank\n",
    "from dotenv import load_dotenv\n",
    "\n",
    "load_dotenv()"
   ]
  },
  {
   "cell_type": "code",
   "execution_count": 5,
   "id": "85201b17",
   "metadata": {},
   "outputs": [
    {
     "name": "stdout",
     "output_type": "stream",
     "text": [
      "Requirement already satisfied: rank_bm25 in /Library/Frameworks/Python.framework/Versions/3.11/lib/python3.11/site-packages (0.2.2)\n",
      "Requirement already satisfied: numpy in /Library/Frameworks/Python.framework/Versions/3.11/lib/python3.11/site-packages (from rank_bm25) (1.26.4)\n",
      "Note: you may need to restart the kernel to use updated packages.\n",
      "Requirement already satisfied: langchain_cohere in /Library/Frameworks/Python.framework/Versions/3.11/lib/python3.11/site-packages (0.4.6)\n",
      "Requirement already satisfied: cohere<6.0,>=5.18.0 in /Library/Frameworks/Python.framework/Versions/3.11/lib/python3.11/site-packages (from langchain_cohere) (5.18.0)\n",
      "Requirement already satisfied: langchain-community<0.4.0,>=0.3.0 in /Library/Frameworks/Python.framework/Versions/3.11/lib/python3.11/site-packages (from langchain_cohere) (0.3.27)\n",
      "Requirement already satisfied: langchain-core<0.4.0,>=0.3.76 in /Library/Frameworks/Python.framework/Versions/3.11/lib/python3.11/site-packages (from langchain_cohere) (0.3.76)\n",
      "Requirement already satisfied: pydantic<3,>=2 in /Library/Frameworks/Python.framework/Versions/3.11/lib/python3.11/site-packages (from langchain_cohere) (2.11.7)\n",
      "Requirement already satisfied: types-pyyaml<7.0.0.0,>=6.0.12.20240917 in /Library/Frameworks/Python.framework/Versions/3.11/lib/python3.11/site-packages (from langchain_cohere) (6.0.12.20250822)\n",
      "Requirement already satisfied: fastavro<2.0.0,>=1.9.4 in /Library/Frameworks/Python.framework/Versions/3.11/lib/python3.11/site-packages (from cohere<6.0,>=5.18.0->langchain_cohere) (1.12.0)\n",
      "Requirement already satisfied: httpx>=0.21.2 in /Library/Frameworks/Python.framework/Versions/3.11/lib/python3.11/site-packages (from cohere<6.0,>=5.18.0->langchain_cohere) (0.28.1)\n",
      "Requirement already satisfied: httpx-sse==0.4.0 in /Library/Frameworks/Python.framework/Versions/3.11/lib/python3.11/site-packages (from cohere<6.0,>=5.18.0->langchain_cohere) (0.4.0)\n",
      "Requirement already satisfied: pydantic-core<3.0.0,>=2.18.2 in /Library/Frameworks/Python.framework/Versions/3.11/lib/python3.11/site-packages (from cohere<6.0,>=5.18.0->langchain_cohere) (2.33.2)\n",
      "Requirement already satisfied: requests<3.0.0,>=2.0.0 in /Library/Frameworks/Python.framework/Versions/3.11/lib/python3.11/site-packages (from cohere<6.0,>=5.18.0->langchain_cohere) (2.31.0)\n",
      "Requirement already satisfied: tokenizers<1,>=0.15 in /Library/Frameworks/Python.framework/Versions/3.11/lib/python3.11/site-packages (from cohere<6.0,>=5.18.0->langchain_cohere) (0.22.0)\n",
      "Requirement already satisfied: types-requests<3.0.0,>=2.0.0 in /Library/Frameworks/Python.framework/Versions/3.11/lib/python3.11/site-packages (from cohere<6.0,>=5.18.0->langchain_cohere) (2.32.4.20250913)\n",
      "Requirement already satisfied: typing_extensions>=4.0.0 in /Library/Frameworks/Python.framework/Versions/3.11/lib/python3.11/site-packages (from cohere<6.0,>=5.18.0->langchain_cohere) (4.12.2)\n",
      "Requirement already satisfied: langchain<1.0.0,>=0.3.26 in /Library/Frameworks/Python.framework/Versions/3.11/lib/python3.11/site-packages (from langchain-community<0.4.0,>=0.3.0->langchain_cohere) (0.3.27)\n",
      "Requirement already satisfied: SQLAlchemy<3,>=1.4 in /Library/Frameworks/Python.framework/Versions/3.11/lib/python3.11/site-packages (from langchain-community<0.4.0,>=0.3.0->langchain_cohere) (1.4.48)\n",
      "Requirement already satisfied: PyYAML>=5.3 in /Library/Frameworks/Python.framework/Versions/3.11/lib/python3.11/site-packages (from langchain-community<0.4.0,>=0.3.0->langchain_cohere) (6.0)\n",
      "Requirement already satisfied: aiohttp<4.0.0,>=3.8.3 in /Library/Frameworks/Python.framework/Versions/3.11/lib/python3.11/site-packages (from langchain-community<0.4.0,>=0.3.0->langchain_cohere) (3.12.15)\n",
      "Requirement already satisfied: tenacity!=8.4.0,<10,>=8.1.0 in /Library/Frameworks/Python.framework/Versions/3.11/lib/python3.11/site-packages (from langchain-community<0.4.0,>=0.3.0->langchain_cohere) (9.1.2)\n",
      "Requirement already satisfied: dataclasses-json<0.7,>=0.5.7 in /Library/Frameworks/Python.framework/Versions/3.11/lib/python3.11/site-packages (from langchain-community<0.4.0,>=0.3.0->langchain_cohere) (0.6.7)\n",
      "Requirement already satisfied: pydantic-settings<3.0.0,>=2.4.0 in /Library/Frameworks/Python.framework/Versions/3.11/lib/python3.11/site-packages (from langchain-community<0.4.0,>=0.3.0->langchain_cohere) (2.10.1)\n",
      "Requirement already satisfied: langsmith>=0.1.125 in /Library/Frameworks/Python.framework/Versions/3.11/lib/python3.11/site-packages (from langchain-community<0.4.0,>=0.3.0->langchain_cohere) (0.4.14)\n",
      "Requirement already satisfied: numpy>=1.26.2 in /Library/Frameworks/Python.framework/Versions/3.11/lib/python3.11/site-packages (from langchain-community<0.4.0,>=0.3.0->langchain_cohere) (1.26.4)\n",
      "Requirement already satisfied: aiohappyeyeballs>=2.5.0 in /Library/Frameworks/Python.framework/Versions/3.11/lib/python3.11/site-packages (from aiohttp<4.0.0,>=3.8.3->langchain-community<0.4.0,>=0.3.0->langchain_cohere) (2.6.1)\n",
      "Requirement already satisfied: aiosignal>=1.4.0 in /Library/Frameworks/Python.framework/Versions/3.11/lib/python3.11/site-packages (from aiohttp<4.0.0,>=3.8.3->langchain-community<0.4.0,>=0.3.0->langchain_cohere) (1.4.0)\n",
      "Requirement already satisfied: attrs>=17.3.0 in /Library/Frameworks/Python.framework/Versions/3.11/lib/python3.11/site-packages (from aiohttp<4.0.0,>=3.8.3->langchain-community<0.4.0,>=0.3.0->langchain_cohere) (23.1.0)\n",
      "Requirement already satisfied: frozenlist>=1.1.1 in /Library/Frameworks/Python.framework/Versions/3.11/lib/python3.11/site-packages (from aiohttp<4.0.0,>=3.8.3->langchain-community<0.4.0,>=0.3.0->langchain_cohere) (1.7.0)\n",
      "Requirement already satisfied: multidict<7.0,>=4.5 in /Library/Frameworks/Python.framework/Versions/3.11/lib/python3.11/site-packages (from aiohttp<4.0.0,>=3.8.3->langchain-community<0.4.0,>=0.3.0->langchain_cohere) (6.6.4)\n",
      "Requirement already satisfied: propcache>=0.2.0 in /Library/Frameworks/Python.framework/Versions/3.11/lib/python3.11/site-packages (from aiohttp<4.0.0,>=3.8.3->langchain-community<0.4.0,>=0.3.0->langchain_cohere) (0.3.2)\n",
      "Requirement already satisfied: yarl<2.0,>=1.17.0 in /Library/Frameworks/Python.framework/Versions/3.11/lib/python3.11/site-packages (from aiohttp<4.0.0,>=3.8.3->langchain-community<0.4.0,>=0.3.0->langchain_cohere) (1.20.1)\n",
      "Requirement already satisfied: marshmallow<4.0.0,>=3.18.0 in /Library/Frameworks/Python.framework/Versions/3.11/lib/python3.11/site-packages (from dataclasses-json<0.7,>=0.5.7->langchain-community<0.4.0,>=0.3.0->langchain_cohere) (3.26.1)\n",
      "Requirement already satisfied: typing-inspect<1,>=0.4.0 in /Library/Frameworks/Python.framework/Versions/3.11/lib/python3.11/site-packages (from dataclasses-json<0.7,>=0.5.7->langchain-community<0.4.0,>=0.3.0->langchain_cohere) (0.9.0)\n",
      "Requirement already satisfied: langchain-text-splitters<1.0.0,>=0.3.9 in /Library/Frameworks/Python.framework/Versions/3.11/lib/python3.11/site-packages (from langchain<1.0.0,>=0.3.26->langchain-community<0.4.0,>=0.3.0->langchain_cohere) (0.3.9)\n",
      "Requirement already satisfied: jsonpatch<2.0,>=1.33 in /Library/Frameworks/Python.framework/Versions/3.11/lib/python3.11/site-packages (from langchain-core<0.4.0,>=0.3.76->langchain_cohere) (1.33)\n",
      "Requirement already satisfied: packaging>=23.2 in /Library/Frameworks/Python.framework/Versions/3.11/lib/python3.11/site-packages (from langchain-core<0.4.0,>=0.3.76->langchain_cohere) (25.0)\n",
      "Requirement already satisfied: jsonpointer>=1.9 in /Library/Frameworks/Python.framework/Versions/3.11/lib/python3.11/site-packages (from jsonpatch<2.0,>=1.33->langchain-core<0.4.0,>=0.3.76->langchain_cohere) (2.4)\n",
      "Requirement already satisfied: annotated-types>=0.6.0 in /Library/Frameworks/Python.framework/Versions/3.11/lib/python3.11/site-packages (from pydantic<3,>=2->langchain_cohere) (0.7.0)\n",
      "Requirement already satisfied: typing-inspection>=0.4.0 in /Library/Frameworks/Python.framework/Versions/3.11/lib/python3.11/site-packages (from pydantic<3,>=2->langchain_cohere) (0.4.1)\n",
      "Requirement already satisfied: python-dotenv>=0.21.0 in /Library/Frameworks/Python.framework/Versions/3.11/lib/python3.11/site-packages (from pydantic-settings<3.0.0,>=2.4.0->langchain-community<0.4.0,>=0.3.0->langchain_cohere) (1.0.0)\n",
      "Requirement already satisfied: charset-normalizer<4,>=2 in /Library/Frameworks/Python.framework/Versions/3.11/lib/python3.11/site-packages (from requests<3.0.0,>=2.0.0->cohere<6.0,>=5.18.0->langchain_cohere) (3.1.0)\n",
      "Requirement already satisfied: idna<4,>=2.5 in /Library/Frameworks/Python.framework/Versions/3.11/lib/python3.11/site-packages (from requests<3.0.0,>=2.0.0->cohere<6.0,>=5.18.0->langchain_cohere) (3.4)\n",
      "Requirement already satisfied: urllib3<3,>=1.21.1 in /Library/Frameworks/Python.framework/Versions/3.11/lib/python3.11/site-packages (from requests<3.0.0,>=2.0.0->cohere<6.0,>=5.18.0->langchain_cohere) (2.5.0)\n",
      "Requirement already satisfied: certifi>=2017.4.17 in /Library/Frameworks/Python.framework/Versions/3.11/lib/python3.11/site-packages (from requests<3.0.0,>=2.0.0->cohere<6.0,>=5.18.0->langchain_cohere) (2023.5.7)\n",
      "Requirement already satisfied: huggingface-hub<1.0,>=0.16.4 in /Library/Frameworks/Python.framework/Versions/3.11/lib/python3.11/site-packages (from tokenizers<1,>=0.15->cohere<6.0,>=5.18.0->langchain_cohere) (0.34.4)\n",
      "Requirement already satisfied: filelock in /Library/Frameworks/Python.framework/Versions/3.11/lib/python3.11/site-packages (from huggingface-hub<1.0,>=0.16.4->tokenizers<1,>=0.15->cohere<6.0,>=5.18.0->langchain_cohere) (3.15.4)\n",
      "Requirement already satisfied: fsspec>=2023.5.0 in /Library/Frameworks/Python.framework/Versions/3.11/lib/python3.11/site-packages (from huggingface-hub<1.0,>=0.16.4->tokenizers<1,>=0.15->cohere<6.0,>=5.18.0->langchain_cohere) (2024.6.1)\n",
      "Requirement already satisfied: tqdm>=4.42.1 in /Library/Frameworks/Python.framework/Versions/3.11/lib/python3.11/site-packages (from huggingface-hub<1.0,>=0.16.4->tokenizers<1,>=0.15->cohere<6.0,>=5.18.0->langchain_cohere) (4.65.0)\n",
      "Requirement already satisfied: hf-xet<2.0.0,>=1.1.3 in /Library/Frameworks/Python.framework/Versions/3.11/lib/python3.11/site-packages (from huggingface-hub<1.0,>=0.16.4->tokenizers<1,>=0.15->cohere<6.0,>=5.18.0->langchain_cohere) (1.1.7)\n",
      "Requirement already satisfied: mypy-extensions>=0.3.0 in /Library/Frameworks/Python.framework/Versions/3.11/lib/python3.11/site-packages (from typing-inspect<1,>=0.4.0->dataclasses-json<0.7,>=0.5.7->langchain-community<0.4.0,>=0.3.0->langchain_cohere) (1.1.0)\n",
      "Requirement already satisfied: anyio in /Library/Frameworks/Python.framework/Versions/3.11/lib/python3.11/site-packages (from httpx>=0.21.2->cohere<6.0,>=5.18.0->langchain_cohere) (3.7.0)\n",
      "Requirement already satisfied: httpcore==1.* in /Library/Frameworks/Python.framework/Versions/3.11/lib/python3.11/site-packages (from httpx>=0.21.2->cohere<6.0,>=5.18.0->langchain_cohere) (1.0.9)\n",
      "Requirement already satisfied: h11>=0.16 in /Library/Frameworks/Python.framework/Versions/3.11/lib/python3.11/site-packages (from httpcore==1.*->httpx>=0.21.2->cohere<6.0,>=5.18.0->langchain_cohere) (0.16.0)\n",
      "Requirement already satisfied: orjson>=3.9.14 in /Library/Frameworks/Python.framework/Versions/3.11/lib/python3.11/site-packages (from langsmith>=0.1.125->langchain-community<0.4.0,>=0.3.0->langchain_cohere) (3.11.2)\n",
      "Requirement already satisfied: requests-toolbelt>=1.0.0 in /Library/Frameworks/Python.framework/Versions/3.11/lib/python3.11/site-packages (from langsmith>=0.1.125->langchain-community<0.4.0,>=0.3.0->langchain_cohere) (1.0.0)\n",
      "Requirement already satisfied: zstandard>=0.23.0 in /Library/Frameworks/Python.framework/Versions/3.11/lib/python3.11/site-packages (from langsmith>=0.1.125->langchain-community<0.4.0,>=0.3.0->langchain_cohere) (0.24.0)\n",
      "Requirement already satisfied: sniffio>=1.1 in /Library/Frameworks/Python.framework/Versions/3.11/lib/python3.11/site-packages (from anyio->httpx>=0.21.2->cohere<6.0,>=5.18.0->langchain_cohere) (1.3.0)\n",
      "Note: you may need to restart the kernel to use updated packages.\n"
     ]
    }
   ],
   "source": [
    "%pip install rank_bm25\n",
    "%pip install langchain_cohere\n"
   ]
  },
  {
   "cell_type": "code",
   "execution_count": 6,
   "id": "dffbbe4a",
   "metadata": {},
   "outputs": [],
   "source": [
    "chunks = [\n",
    "    \"Microsoft acquired GitHub for 7.5 billion dollars in 2018.\",\n",
    "    \"Tesla Cybertruck production ramp begins in 2024.\",\n",
    "    \"Google is a large technology company with global operations.\",\n",
    "    \"Tesla reported strong quarterly results. Tesla continues to lead in electric vehicles.\",\n",
    "    \"SpaceX develops Starship rockets for Mars missions.\",\n",
    "    \"The tech giant acquired the code repository platform for software development.\",\n",
    "    \"NVIDIA designs Starship architecture for their new GPUs.\",\n",
    "    \"Tesla Tesla Tesla financial quarterly results improved significantly.\",\n",
    "    \"Cybertruck reservations exceeded company expectations.\",\n",
    "    \"Microsoft is a large technology company with global operations\",\n",
    "    \"Apple announced new iPhone features for developers.\",\n",
    "    \"The apple orchard harvest was excellent this year.\",\n",
    "    \"Python programming language is widely used in AI.\",\n",
    "    \"The python snake can grow up to 20 feet long.\",\n",
    "    \"Java coffee beans are imported from Indonesia.\",\n",
    "    \"Java programming requires understanding of object-oriented concepts.\",\n",
    "    \"Orange juice sales increased during winter months.\",\n",
    "    \"Orange County reported new housing developments.\"\n",
    "]"
   ]
  },
  {
   "cell_type": "code",
   "execution_count": 7,
   "id": "a7000d2b",
   "metadata": {},
   "outputs": [
    {
     "name": "stdout",
     "output_type": "stream",
     "text": [
      "Simple Data: \n",
      "\n",
      "============================================================\n",
      "0. Microsoft acquired GitHub for 7.5 billion dollars in 2018.\n",
      "1. Tesla Cybertruck production ramp begins in 2024.\n",
      "2. Google is a large technology company with global operations.\n",
      "3. Tesla reported strong quarterly results. Tesla continues to lead in electric vehicles.\n",
      "4. SpaceX develops Starship rockets for Mars missions.\n",
      "5. The tech giant acquired the code repository platform for software development.\n",
      "6. NVIDIA designs Starship architecture for their new GPUs.\n",
      "7. Tesla Tesla Tesla financial quarterly results improved significantly.\n",
      "8. Cybertruck reservations exceeded company expectations.\n",
      "9. Microsoft is a large technology company with global operations\n",
      "10. Apple announced new iPhone features for developers.\n",
      "11. The apple orchard harvest was excellent this year.\n",
      "12. Python programming language is widely used in AI.\n",
      "13. The python snake can grow up to 20 feet long.\n",
      "14. Java coffee beans are imported from Indonesia.\n",
      "15. Java programming requires understanding of object-oriented concepts.\n",
      "16. Orange juice sales increased during winter months.\n",
      "17. Orange County reported new housing developments.\n",
      "\n",
      "============================================================\n"
     ]
    }
   ],
   "source": [
    "documents = [Document(page_content=chunk,metadata={\"source\":f\"chunk_{i}\"}) for i,chunk in enumerate(chunks)]\n",
    "\n",
    "print(\"Simple Data: \")\n",
    "print('\\n'+'='*60)\n",
    "\n",
    "for i,docs in enumerate(documents):\n",
    "    print(f\"{i}. {docs.page_content}\")\n",
    "print('\\n'+'='*60)"
   ]
  },
  {
   "cell_type": "code",
   "execution_count": 8,
   "id": "762a8361",
   "metadata": {},
   "outputs": [
    {
     "name": "stdout",
     "output_type": "stream",
     "text": [
      "Setting Up vector Retriever...\n"
     ]
    }
   ],
   "source": [
    "print(\"Setting Up vector Retriever...\")\n",
    "embedding_model = OpenAIEmbeddings(model = \"text-embedding-3-small\")\n",
    "vectorstore = Chroma.from_documents(\n",
    "    documents = documents,\n",
    "    embedding = embedding_model,\n",
    "    collection_metadata= {\"hnsw:space\":\"cosine\"}\n",
    ")"
   ]
  },
  {
   "cell_type": "markdown",
   "id": "09e9e7a3",
   "metadata": {},
   "source": [
    "### 1. Vectore Retriever"
   ]
  },
  {
   "cell_type": "code",
   "execution_count": 9,
   "id": "1f4d9f26",
   "metadata": {},
   "outputs": [
    {
     "name": "stdout",
     "output_type": "stream",
     "text": [
      "Testing: 'space exploration company'\n",
      "Found 0. SpaceX develops Starship rockets for Mars missions....\n",
      "Found 1. Microsoft is a large technology company with global operations...\n"
     ]
    }
   ],
   "source": [
    "vector_retriever = vectorstore.as_retriever(\n",
    "    search_kwargs={\"k\":2}\n",
    ")\n",
    "\n",
    "test_query = \"space exploration company\"\n",
    "\n",
    "\n",
    "print(f\"Testing: '{test_query}'\")\n",
    "test_docs = vector_retriever.invoke(test_query)\n",
    "\n",
    "for i,doc in enumerate(test_docs):\n",
    "    print(f\"Found {i}. {doc.page_content[:250]}...\")"
   ]
  },
  {
   "cell_type": "markdown",
   "id": "d1619ccd",
   "metadata": {},
   "source": [
    "### 2. BM25 Retriever"
   ]
  },
  {
   "cell_type": "code",
   "execution_count": 10,
   "id": "c66d4093",
   "metadata": {},
   "outputs": [
    {
     "name": "stdout",
     "output_type": "stream",
     "text": [
      "Setting BM25 Retriever...\n",
      "Testing: 'Tesla'\n",
      "Found 0. Tesla Tesla Tesla financial quarterly results improved significantly....\n",
      "Found 1. Tesla reported strong quarterly results. Tesla continues to lead in electric vehicles....\n",
      "Found 2. Tesla Cybertruck production ramp begins in 2024....\n"
     ]
    }
   ],
   "source": [
    "print('Setting BM25 Retriever...')\n",
    "bm25_retriever   = BM25Retriever.from_documents(documents)\n",
    "bm25_retriever.k = 3\n",
    "\n",
    "test_query = \"Tesla\"\n",
    "\n",
    "print(f\"Testing: '{test_query}'\")\n",
    "test_docs = bm25_retriever.invoke(test_query)\n",
    "\n",
    "for i,doc in enumerate(test_docs):\n",
    "    print(f\"Found {i}. {doc.page_content[:250]}...\")\n"
   ]
  },
  {
   "cell_type": "markdown",
   "id": "cc352acb",
   "metadata": {},
   "source": [
    "### 3. Hybrid Retriever"
   ]
  },
  {
   "cell_type": "code",
   "execution_count": 13,
   "id": "057fd184",
   "metadata": {},
   "outputs": [
    {
     "name": "stdout",
     "output_type": "stream",
     "text": [
      "Setting up Hydribd Retriever\n",
      "Testing: 'Purching cost 7.5 billion'\n",
      "Found 0. Microsoft acquired GitHub for 7.5 billion dollars in 2018....\n",
      "Found 1. The tech giant acquired the code repository platform for software development....\n",
      "Found 2. Orange juice sales increased during winter months....\n",
      "Found 3. Tesla Cybertruck production ramp begins in 2024....\n",
      "Found 4. Google is a large technology company with global operations....\n",
      "Found 5. Tesla reported strong quarterly results. Tesla continues to lead in electric vehicles....\n"
     ]
    }
   ],
   "source": [
    "print(\"Setting up Hydribd Retriever\")\n",
    "bm25_retriever.k = 5\n",
    "\n",
    "hybrid_retriever = EnsembleRetriever(\n",
    "    retrievers=[vector_retriever,bm25_retriever],\n",
    "    weights=[0.7,0.3]\n",
    ")\n",
    "\n",
    "test_query = 'Purching cost 7.5 billion'\n",
    "print(f\"Testing: '{test_query}'\")\n",
    "test_docs = hybrid_retriever.invoke(test_query)\n",
    "\n",
    "for i,doc in enumerate(test_docs):\n",
    "    print(f\"Found {i}. {doc.page_content[:250]}...\")"
   ]
  },
  {
   "cell_type": "code",
   "execution_count": 20,
   "id": "3445a013",
   "metadata": {},
   "outputs": [
    {
     "ename": "ApiError",
     "evalue": "headers: None, status_code: None, body: The client must be instantiated be either passing in token or setting CO_API_KEY",
     "output_type": "error",
     "traceback": [
      "\u001b[0;31m---------------------------------------------------------------------------\u001b[0m",
      "\u001b[0;31mApiError\u001b[0m                                  Traceback (most recent call last)",
      "Cell \u001b[0;32mIn[20], line 1\u001b[0m\n\u001b[0;32m----> 1\u001b[0m reranker \u001b[38;5;241m=\u001b[39m \u001b[43mCohereRerank\u001b[49m\u001b[43m(\u001b[49m\u001b[43mmodel\u001b[49m\u001b[43m \u001b[49m\u001b[38;5;241;43m=\u001b[39;49m\u001b[43m \u001b[49m\u001b[38;5;124;43m\"\u001b[39;49m\u001b[38;5;124;43mrerank-english-v3.0\u001b[39;49m\u001b[38;5;124;43m\"\u001b[39;49m\u001b[43m,\u001b[49m\u001b[43m \u001b[49m\u001b[43mtop_n\u001b[49m\u001b[43m \u001b[49m\u001b[38;5;241;43m=\u001b[39;49m\u001b[43m \u001b[49m\u001b[38;5;241;43m1\u001b[39;49m\u001b[43m)\u001b[49m\n",
      "    \u001b[0;31m[... skipping hidden 1 frame]\u001b[0m\n",
      "File \u001b[0;32m/Library/Frameworks/Python.framework/Versions/3.11/lib/python3.11/site-packages/langchain_cohere/rerank.py:48\u001b[0m, in \u001b[0;36mCohereRerank.validate_environment\u001b[0;34m(self)\u001b[0m\n\u001b[1;32m     46\u001b[0m         cohere_api_key \u001b[38;5;241m=\u001b[39m \u001b[38;5;28mself\u001b[39m\u001b[38;5;241m.\u001b[39mcohere_api_key\n\u001b[1;32m     47\u001b[0m     client_name \u001b[38;5;241m=\u001b[39m \u001b[38;5;28mself\u001b[39m\u001b[38;5;241m.\u001b[39muser_agent\n\u001b[0;32m---> 48\u001b[0m     \u001b[38;5;28mself\u001b[39m\u001b[38;5;241m.\u001b[39mclient \u001b[38;5;241m=\u001b[39m \u001b[43mcohere\u001b[49m\u001b[38;5;241;43m.\u001b[39;49m\u001b[43mClientV2\u001b[49m\u001b[43m(\u001b[49m\n\u001b[1;32m     49\u001b[0m \u001b[43m        \u001b[49m\u001b[43mcohere_api_key\u001b[49m\u001b[43m,\u001b[49m\n\u001b[1;32m     50\u001b[0m \u001b[43m        \u001b[49m\u001b[43mclient_name\u001b[49m\u001b[38;5;241;43m=\u001b[39;49m\u001b[43mclient_name\u001b[49m\u001b[43m,\u001b[49m\n\u001b[1;32m     51\u001b[0m \u001b[43m        \u001b[49m\u001b[43mbase_url\u001b[49m\u001b[38;5;241;43m=\u001b[39;49m\u001b[38;5;28;43mself\u001b[39;49m\u001b[38;5;241;43m.\u001b[39;49m\u001b[43mbase_url\u001b[49m\u001b[43m,\u001b[49m\n\u001b[1;32m     52\u001b[0m \u001b[43m    \u001b[49m\u001b[43m)\u001b[49m\n\u001b[1;32m     53\u001b[0m \u001b[38;5;28;01melif\u001b[39;00m \u001b[38;5;129;01mnot\u001b[39;00m \u001b[38;5;28misinstance\u001b[39m(\u001b[38;5;28mself\u001b[39m\u001b[38;5;241m.\u001b[39mclient, cohere\u001b[38;5;241m.\u001b[39mClientV2):\n\u001b[1;32m     54\u001b[0m     \u001b[38;5;28;01mraise\u001b[39;00m \u001b[38;5;167;01mValueError\u001b[39;00m(\n\u001b[1;32m     55\u001b[0m         \u001b[38;5;124m\"\u001b[39m\u001b[38;5;124mThe \u001b[39m\u001b[38;5;124m'\u001b[39m\u001b[38;5;124mclient\u001b[39m\u001b[38;5;124m'\u001b[39m\u001b[38;5;124m parameter must be an instance of cohere.ClientV2.\u001b[39m\u001b[38;5;130;01m\\n\u001b[39;00m\u001b[38;5;124m\"\u001b[39m\n\u001b[1;32m     56\u001b[0m         \u001b[38;5;124m\"\u001b[39m\u001b[38;5;124mYou may create the ClientV2 object like:\u001b[39m\u001b[38;5;130;01m\\n\u001b[39;00m\u001b[38;5;130;01m\\n\u001b[39;00m\u001b[38;5;124m\"\u001b[39m\n\u001b[1;32m     57\u001b[0m         \u001b[38;5;124m\"\u001b[39m\u001b[38;5;124mimport cohere\u001b[39m\u001b[38;5;130;01m\\n\u001b[39;00m\u001b[38;5;124mclient = cohere.ClientV2(...)\u001b[39m\u001b[38;5;124m\"\u001b[39m\n\u001b[1;32m     58\u001b[0m     )\n",
      "File \u001b[0;32m/Library/Frameworks/Python.framework/Versions/3.11/lib/python3.11/site-packages/cohere/client_v2.py:24\u001b[0m, in \u001b[0;36mClientV2.__init__\u001b[0;34m(self, api_key, base_url, environment, client_name, timeout, httpx_client, thread_pool_executor, log_warning_experimental_features)\u001b[0m\n\u001b[1;32m     11\u001b[0m \u001b[38;5;28;01mdef\u001b[39;00m \u001b[38;5;21m__init__\u001b[39m(\n\u001b[1;32m     12\u001b[0m     \u001b[38;5;28mself\u001b[39m,\n\u001b[1;32m     13\u001b[0m     api_key: typing\u001b[38;5;241m.\u001b[39mOptional[typing\u001b[38;5;241m.\u001b[39mUnion[\u001b[38;5;28mstr\u001b[39m,\n\u001b[0;32m   (...)\u001b[0m\n\u001b[1;32m     22\u001b[0m     log_warning_experimental_features: \u001b[38;5;28mbool\u001b[39m \u001b[38;5;241m=\u001b[39m \u001b[38;5;28;01mTrue\u001b[39;00m,\n\u001b[1;32m     23\u001b[0m ):\n\u001b[0;32m---> 24\u001b[0m     \u001b[43mClient\u001b[49m\u001b[38;5;241;43m.\u001b[39;49m\u001b[38;5;21;43m__init__\u001b[39;49m\u001b[43m(\u001b[49m\n\u001b[1;32m     25\u001b[0m \u001b[43m        \u001b[49m\u001b[38;5;28;43mself\u001b[39;49m\u001b[43m,\u001b[49m\n\u001b[1;32m     26\u001b[0m \u001b[43m        \u001b[49m\u001b[43mapi_key\u001b[49m\u001b[38;5;241;43m=\u001b[39;49m\u001b[43mapi_key\u001b[49m\u001b[43m,\u001b[49m\n\u001b[1;32m     27\u001b[0m \u001b[43m        \u001b[49m\u001b[43mbase_url\u001b[49m\u001b[38;5;241;43m=\u001b[39;49m\u001b[43mbase_url\u001b[49m\u001b[43m,\u001b[49m\n\u001b[1;32m     28\u001b[0m \u001b[43m        \u001b[49m\u001b[43menvironment\u001b[49m\u001b[38;5;241;43m=\u001b[39;49m\u001b[43menvironment\u001b[49m\u001b[43m,\u001b[49m\n\u001b[1;32m     29\u001b[0m \u001b[43m        \u001b[49m\u001b[43mclient_name\u001b[49m\u001b[38;5;241;43m=\u001b[39;49m\u001b[43mclient_name\u001b[49m\u001b[43m,\u001b[49m\n\u001b[1;32m     30\u001b[0m \u001b[43m        \u001b[49m\u001b[43mtimeout\u001b[49m\u001b[38;5;241;43m=\u001b[39;49m\u001b[43mtimeout\u001b[49m\u001b[43m,\u001b[49m\n\u001b[1;32m     31\u001b[0m \u001b[43m        \u001b[49m\u001b[43mhttpx_client\u001b[49m\u001b[38;5;241;43m=\u001b[39;49m\u001b[43mhttpx_client\u001b[49m\u001b[43m,\u001b[49m\n\u001b[1;32m     32\u001b[0m \u001b[43m        \u001b[49m\u001b[43mthread_pool_executor\u001b[49m\u001b[38;5;241;43m=\u001b[39;49m\u001b[43mthread_pool_executor\u001b[49m\u001b[43m,\u001b[49m\n\u001b[1;32m     33\u001b[0m \u001b[43m        \u001b[49m\u001b[43mlog_warning_experimental_features\u001b[49m\u001b[38;5;241;43m=\u001b[39;49m\u001b[43mlog_warning_experimental_features\u001b[49m\u001b[43m,\u001b[49m\n\u001b[1;32m     34\u001b[0m \u001b[43m    \u001b[49m\u001b[43m)\u001b[49m\n\u001b[1;32m     35\u001b[0m     V2Client\u001b[38;5;241m.\u001b[39m\u001b[38;5;21m__init__\u001b[39m(\n\u001b[1;32m     36\u001b[0m         \u001b[38;5;28mself\u001b[39m,\n\u001b[1;32m     37\u001b[0m         client_wrapper\u001b[38;5;241m=\u001b[39m\u001b[38;5;28mself\u001b[39m\u001b[38;5;241m.\u001b[39m_client_wrapper\n\u001b[1;32m     38\u001b[0m     )\n",
      "File \u001b[0;32m/Library/Frameworks/Python.framework/Versions/3.11/lib/python3.11/site-packages/cohere/client.py:153\u001b[0m, in \u001b[0;36mClient.__init__\u001b[0;34m(self, api_key, base_url, environment, client_name, timeout, httpx_client, thread_pool_executor, log_warning_experimental_features)\u001b[0m\n\u001b[1;32m    149\u001b[0m base_url \u001b[38;5;241m=\u001b[39m fix_base_url(base_url)\n\u001b[1;32m    151\u001b[0m \u001b[38;5;28mself\u001b[39m\u001b[38;5;241m.\u001b[39m_executor \u001b[38;5;241m=\u001b[39m thread_pool_executor\n\u001b[0;32m--> 153\u001b[0m \u001b[43mBaseCohere\u001b[49m\u001b[38;5;241;43m.\u001b[39;49m\u001b[38;5;21;43m__init__\u001b[39;49m\u001b[43m(\u001b[49m\n\u001b[1;32m    154\u001b[0m \u001b[43m    \u001b[49m\u001b[38;5;28;43mself\u001b[39;49m\u001b[43m,\u001b[49m\n\u001b[1;32m    155\u001b[0m \u001b[43m    \u001b[49m\u001b[43mbase_url\u001b[49m\u001b[38;5;241;43m=\u001b[39;49m\u001b[43mbase_url\u001b[49m\u001b[43m,\u001b[49m\n\u001b[1;32m    156\u001b[0m \u001b[43m    \u001b[49m\u001b[43menvironment\u001b[49m\u001b[38;5;241;43m=\u001b[39;49m\u001b[43menvironment\u001b[49m\u001b[43m,\u001b[49m\n\u001b[1;32m    157\u001b[0m \u001b[43m    \u001b[49m\u001b[43mclient_name\u001b[49m\u001b[38;5;241;43m=\u001b[39;49m\u001b[43mclient_name\u001b[49m\u001b[43m,\u001b[49m\n\u001b[1;32m    158\u001b[0m \u001b[43m    \u001b[49m\u001b[43mtoken\u001b[49m\u001b[38;5;241;43m=\u001b[39;49m\u001b[43mapi_key\u001b[49m\u001b[43m,\u001b[49m\n\u001b[1;32m    159\u001b[0m \u001b[43m    \u001b[49m\u001b[43mtimeout\u001b[49m\u001b[38;5;241;43m=\u001b[39;49m\u001b[43mtimeout\u001b[49m\u001b[43m,\u001b[49m\n\u001b[1;32m    160\u001b[0m \u001b[43m    \u001b[49m\u001b[43mhttpx_client\u001b[49m\u001b[38;5;241;43m=\u001b[39;49m\u001b[43mhttpx_client\u001b[49m\u001b[43m,\u001b[49m\n\u001b[1;32m    161\u001b[0m \u001b[43m\u001b[49m\u001b[43m)\u001b[49m\n\u001b[1;32m    163\u001b[0m validate_args(\u001b[38;5;28mself\u001b[39m, \u001b[38;5;124m\"\u001b[39m\u001b[38;5;124mchat\u001b[39m\u001b[38;5;124m\"\u001b[39m, throw_if_stream_is_true)\n\u001b[1;32m    164\u001b[0m \u001b[38;5;28;01mif\u001b[39;00m log_warning_experimental_features:\n",
      "File \u001b[0;32m/Library/Frameworks/Python.framework/Versions/3.11/lib/python3.11/site-packages/cohere/base_client.py:113\u001b[0m, in \u001b[0;36mBaseCohere.__init__\u001b[0;34m(self, base_url, environment, client_name, token, timeout, follow_redirects, httpx_client)\u001b[0m\n\u001b[1;32m    109\u001b[0m _defaulted_timeout \u001b[38;5;241m=\u001b[39m (\n\u001b[1;32m    110\u001b[0m     timeout \u001b[38;5;28;01mif\u001b[39;00m timeout \u001b[38;5;129;01mis\u001b[39;00m \u001b[38;5;129;01mnot\u001b[39;00m \u001b[38;5;28;01mNone\u001b[39;00m \u001b[38;5;28;01melse\u001b[39;00m \u001b[38;5;241m300\u001b[39m \u001b[38;5;28;01mif\u001b[39;00m httpx_client \u001b[38;5;129;01mis\u001b[39;00m \u001b[38;5;28;01mNone\u001b[39;00m \u001b[38;5;28;01melse\u001b[39;00m httpx_client\u001b[38;5;241m.\u001b[39mtimeout\u001b[38;5;241m.\u001b[39mread\n\u001b[1;32m    111\u001b[0m )\n\u001b[1;32m    112\u001b[0m \u001b[38;5;28;01mif\u001b[39;00m token \u001b[38;5;129;01mis\u001b[39;00m \u001b[38;5;28;01mNone\u001b[39;00m:\n\u001b[0;32m--> 113\u001b[0m     \u001b[38;5;28;01mraise\u001b[39;00m ApiError(body\u001b[38;5;241m=\u001b[39m\u001b[38;5;124m\"\u001b[39m\u001b[38;5;124mThe client must be instantiated be either passing in token or setting CO_API_KEY\u001b[39m\u001b[38;5;124m\"\u001b[39m)\n\u001b[1;32m    114\u001b[0m \u001b[38;5;28mself\u001b[39m\u001b[38;5;241m.\u001b[39m_client_wrapper \u001b[38;5;241m=\u001b[39m SyncClientWrapper(\n\u001b[1;32m    115\u001b[0m     base_url\u001b[38;5;241m=\u001b[39m_get_base_url(base_url\u001b[38;5;241m=\u001b[39mbase_url, environment\u001b[38;5;241m=\u001b[39menvironment),\n\u001b[1;32m    116\u001b[0m     client_name\u001b[38;5;241m=\u001b[39mclient_name,\n\u001b[0;32m   (...)\u001b[0m\n\u001b[1;32m    123\u001b[0m     timeout\u001b[38;5;241m=\u001b[39m_defaulted_timeout,\n\u001b[1;32m    124\u001b[0m )\n\u001b[1;32m    125\u001b[0m \u001b[38;5;28mself\u001b[39m\u001b[38;5;241m.\u001b[39m_raw_client \u001b[38;5;241m=\u001b[39m RawBaseCohere(client_wrapper\u001b[38;5;241m=\u001b[39m\u001b[38;5;28mself\u001b[39m\u001b[38;5;241m.\u001b[39m_client_wrapper)\n",
      "\u001b[0;31mApiError\u001b[0m: headers: None, status_code: None, body: The client must be instantiated be either passing in token or setting CO_API_KEY"
     ]
    }
   ],
   "source": [
    "reranker = CohereRerank(model = \"rerank-english-v3.0\", top_n = 1)"
   ]
  },
  {
   "cell_type": "code",
   "execution_count": 31,
   "id": "62d9c2ac",
   "metadata": {},
   "outputs": [
    {
     "name": "stdout",
     "output_type": "stream",
     "text": [
      "\n",
      "--- Generated Response ---\n",
      "Content only:\n",
      "\n",
      "Microsoft acquired GitHub for 7.5 billion dollars in 2018.\n"
     ]
    }
   ],
   "source": [
    "from langchain_openai import ChatOpenAI\n",
    "from langchain_core.messages import HumanMessage,SystemMessage\n",
    "\n",
    "\n",
    "\n",
    "\n",
    "combined_input = f\"\"\"Based on the following documents, please answer the question: {test_query}\n",
    "\n",
    "Documents:\n",
    "{chr(10).join([f\"- {doc.page_content}\" for doc in test_docs])}\n",
    "\n",
    "Please provide a cleat, helpful answer unsing only the information from these documents. If you cammort fint the answer, tell you cannot find it. Say I dont know information to answer this question\n",
    "\"\"\"\n",
    "\n",
    "model = ChatOpenAI(model='gpt-4o-mini')\n",
    "\n",
    "messages = [\n",
    "    SystemMessage(content = \"You are helpful assistant.\"),\n",
    "    HumanMessage(content = combined_input),\n",
    "]\n",
    "\n",
    "result = model.invoke(messages)\n",
    "\n",
    "print(\"\\n--- Generated Response ---\")\n",
    "print(\"Content only:\\n\")\n",
    "print(result.content)"
   ]
  },
  {
   "cell_type": "code",
   "execution_count": null,
   "id": "2803117f",
   "metadata": {},
   "outputs": [],
   "source": []
  }
 ],
 "metadata": {
  "kernelspec": {
   "display_name": "Python 3",
   "language": "python",
   "name": "python3"
  },
  "language_info": {
   "codemirror_mode": {
    "name": "ipython",
    "version": 3
   },
   "file_extension": ".py",
   "mimetype": "text/x-python",
   "name": "python",
   "nbconvert_exporter": "python",
   "pygments_lexer": "ipython3",
   "version": "3.11.4"
  }
 },
 "nbformat": 4,
 "nbformat_minor": 5
}
