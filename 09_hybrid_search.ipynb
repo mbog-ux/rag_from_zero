{
 "cells": [
  {
   "cell_type": "code",
   "execution_count": 1,
   "id": "181d2808",
   "metadata": {},
   "outputs": [
    {
     "data": {
      "text/plain": [
       "True"
      ]
     },
     "execution_count": 1,
     "metadata": {},
     "output_type": "execute_result"
    }
   ],
   "source": [
    "from langchain.retrievers import EnsembleRetriever,BM25Retriever\n",
    "from langchain_openai import OpenAIEmbeddings\n",
    "from langchain_chroma import Chroma\n",
    "from langchain_core.documents import Document\n",
    "from dotenv import load_dotenv\n",
    "\n",
    "load_dotenv()"
   ]
  },
  {
   "cell_type": "code",
   "execution_count": 3,
   "id": "85201b17",
   "metadata": {},
   "outputs": [
    {
     "name": "stdout",
     "output_type": "stream",
     "text": [
      "Collecting rank_bm25\n",
      "  Downloading rank_bm25-0.2.2-py3-none-any.whl.metadata (3.2 kB)\n",
      "Requirement already satisfied: numpy in /Library/Frameworks/Python.framework/Versions/3.11/lib/python3.11/site-packages (from rank_bm25) (1.26.4)\n",
      "Downloading rank_bm25-0.2.2-py3-none-any.whl (8.6 kB)\n",
      "Installing collected packages: rank_bm25\n",
      "Successfully installed rank_bm25-0.2.2\n"
     ]
    }
   ],
   "source": [
    "!pip install rank_bm25"
   ]
  },
  {
   "cell_type": "code",
   "execution_count": 4,
   "id": "dffbbe4a",
   "metadata": {},
   "outputs": [],
   "source": [
    "chunks = [\n",
    "    \"Microsoft acquired GitHub for 7.5 billion dollars in 2018.\",\n",
    "    \"Tesla Cybertruck production ramp begins in 2024.\",\n",
    "    \"Google is a large technology company with global operations.\",\n",
    "    \"Tesla reported strong quarterly results. Tesla continues to lead in electric vehicles.\",\n",
    "    \"SpaceX develops Starship rockets for Mars missions.\",\n",
    "    \"The tech giant acquired the code repository platform for software development.\",\n",
    "    \"NVIDIA designs Starship architecture for their new GPUs.\",\n",
    "    \"Tesla Tesla Tesla financial quarterly results improved significantly.\",\n",
    "    \"Cybertruck reservations exceeded company expectations.\",\n",
    "    \"Microsoft is a large technology company with global operations\",\n",
    "    \"Apple announced new iPhone features for developers.\",\n",
    "    \"The apple orchard harvest was excellent this year.\",\n",
    "    \"Python programming language is widely used in AI.\",\n",
    "    \"The python snake can grow up to 20 feet long.\",\n",
    "    \"Java coffee beans are imported from Indonesia.\",\n",
    "    \"Java programming requires understanding of object-oriented concepts.\",\n",
    "    \"Orange juice sales increased during winter months.\",\n",
    "    \"Orange County reported new housing developments.\"\n",
    "]"
   ]
  },
  {
   "cell_type": "code",
   "execution_count": 9,
   "id": "a7000d2b",
   "metadata": {},
   "outputs": [
    {
     "name": "stdout",
     "output_type": "stream",
     "text": [
      "Simple Data: \n",
      "\n",
      "============================================================\n",
      "0. Microsoft acquired GitHub for 7.5 billion dollars in 2018.\n",
      "1. Tesla Cybertruck production ramp begins in 2024.\n",
      "2. Google is a large technology company with global operations.\n",
      "3. Tesla reported strong quarterly results. Tesla continues to lead in electric vehicles.\n",
      "4. SpaceX develops Starship rockets for Mars missions.\n",
      "5. The tech giant acquired the code repository platform for software development.\n",
      "6. NVIDIA designs Starship architecture for their new GPUs.\n",
      "7. Tesla Tesla Tesla financial quarterly results improved significantly.\n",
      "8. Cybertruck reservations exceeded company expectations.\n",
      "9. Microsoft is a large technology company with global operations\n",
      "10. Apple announced new iPhone features for developers.\n",
      "11. The apple orchard harvest was excellent this year.\n",
      "12. Python programming language is widely used in AI.\n",
      "13. The python snake can grow up to 20 feet long.\n",
      "14. Java coffee beans are imported from Indonesia.\n",
      "15. Java programming requires understanding of object-oriented concepts.\n",
      "16. Orange juice sales increased during winter months.\n",
      "17. Orange County reported new housing developments.\n",
      "\n",
      "============================================================\n"
     ]
    }
   ],
   "source": [
    "documents = [Document(page_content=chunk,metadata={\"source\":f\"chunk_{i}\"}) for i,chunk in enumerate(chunks)]\n",
    "\n",
    "print(\"Simple Data: \")\n",
    "print('\\n'+'='*60)\n",
    "\n",
    "for i,docs in enumerate(documents):\n",
    "    print(f\"{i}. {docs.page_content}\")\n",
    "print('\\n'+'='*60)"
   ]
  },
  {
   "cell_type": "code",
   "execution_count": 13,
   "id": "762a8361",
   "metadata": {},
   "outputs": [
    {
     "name": "stdout",
     "output_type": "stream",
     "text": [
      "Setting Up vector Retriever...\n"
     ]
    }
   ],
   "source": [
    "print(\"Setting Up vector Retriever...\")\n",
    "embedding_model = OpenAIEmbeddings(model = \"text-embedding-3-small\")\n",
    "vectorstore = Chroma.from_documents(\n",
    "    documents = documents,\n",
    "    embedding = embedding_model,\n",
    "    collection_metadata= {\"hnsw:space\":\"cosine\"}\n",
    ")"
   ]
  },
  {
   "cell_type": "markdown",
   "id": "09e9e7a3",
   "metadata": {},
   "source": [
    "### 1. Vectore Retriever"
   ]
  },
  {
   "cell_type": "code",
   "execution_count": 22,
   "id": "1f4d9f26",
   "metadata": {},
   "outputs": [
    {
     "name": "stdout",
     "output_type": "stream",
     "text": [
      "Testing: 'space exploration company'\n",
      "Found 0. SpaceX develops Starship rockets for Mars missions....\n",
      "Found 1. Microsoft is a large technology company with global operations...\n"
     ]
    }
   ],
   "source": [
    "vector_retriever = vectorstore.as_retriever(\n",
    "    search_kwargs={\"k\":2}\n",
    ")\n",
    "\n",
    "test_query = \"space exploration company\"\n",
    "\n",
    "\n",
    "print(f\"Testing: '{test_query}'\")\n",
    "test_docs = vector_retriever.invoke(test_query)\n",
    "\n",
    "for i,doc in enumerate(test_docs):\n",
    "    print(f\"Found {i}. {doc.page_content[:250]}...\")"
   ]
  },
  {
   "cell_type": "markdown",
   "id": "d1619ccd",
   "metadata": {},
   "source": [
    "### 2. BM25 Retriever"
   ]
  },
  {
   "cell_type": "code",
   "execution_count": 23,
   "id": "c66d4093",
   "metadata": {},
   "outputs": [
    {
     "name": "stdout",
     "output_type": "stream",
     "text": [
      "Setting BM25 Retriever...\n",
      "Testing: 'Tesla'\n",
      "Found 0. Tesla Tesla Tesla financial quarterly results improved significantly....\n",
      "Found 1. Tesla reported strong quarterly results. Tesla continues to lead in electric vehicles....\n",
      "Found 2. Tesla Cybertruck production ramp begins in 2024....\n"
     ]
    }
   ],
   "source": [
    "print('Setting BM25 Retriever...')\n",
    "bm25_retriever   = BM25Retriever.from_documents(documents)\n",
    "bm25_retriever.k = 3\n",
    "\n",
    "test_query = \"Tesla\"\n",
    "\n",
    "print(f\"Testing: '{test_query}'\")\n",
    "test_docs = bm25_retriever.invoke(test_query)\n",
    "\n",
    "for i,doc in enumerate(test_docs):\n",
    "    print(f\"Found {i}. {doc.page_content[:250]}...\")\n"
   ]
  },
  {
   "cell_type": "markdown",
   "id": "cc352acb",
   "metadata": {},
   "source": [
    "### 3. Hybrid Retriever"
   ]
  },
  {
   "cell_type": "code",
   "execution_count": 30,
   "id": "057fd184",
   "metadata": {},
   "outputs": [
    {
     "name": "stdout",
     "output_type": "stream",
     "text": [
      "Setting up Hydribd Retriever\n",
      "Testing: 'Purching cost 7.5 billion'\n",
      "Found 0. Microsoft acquired GitHub for 7.5 billion dollars in 2018....\n",
      "Found 1. The tech giant acquired the code repository platform for software development....\n",
      "Found 2. Orange juice sales increased during winter months....\n"
     ]
    }
   ],
   "source": [
    "print(\"Setting up Hydribd Retriever\")\n",
    "bm25_retriever.k = 2\n",
    "\n",
    "hybrid_retriever = EnsembleRetriever(\n",
    "    retrievers=[vector_retriever,bm25_retriever],\n",
    "    weights=[0.7,0.3]\n",
    ")\n",
    "\n",
    "test_query = 'Purching cost 7.5 billion'\n",
    "print(f\"Testing: '{test_query}'\")\n",
    "test_docs = hybrid_retriever.invoke(test_query)\n",
    "\n",
    "for i,doc in enumerate(test_docs):\n",
    "    print(f\"Found {i}. {doc.page_content[:250]}...\")"
   ]
  },
  {
   "cell_type": "code",
   "execution_count": 31,
   "id": "62d9c2ac",
   "metadata": {},
   "outputs": [
    {
     "name": "stdout",
     "output_type": "stream",
     "text": [
      "\n",
      "--- Generated Response ---\n",
      "Content only:\n",
      "\n",
      "Microsoft acquired GitHub for 7.5 billion dollars in 2018.\n"
     ]
    }
   ],
   "source": [
    "from langchain_openai import ChatOpenAI\n",
    "from langchain_core.messages import HumanMessage,SystemMessage\n",
    "\n",
    "\n",
    "\n",
    "\n",
    "combined_input = f\"\"\"Based on the following documents, please answer the question: {test_query}\n",
    "\n",
    "Documents:\n",
    "{chr(10).join([f\"- {doc.page_content}\" for doc in test_docs])}\n",
    "\n",
    "Please provide a cleat, helpful answer unsing only the information from these documents. If you cammort fint the answer, tell you cannot find it. Say I dont know information to answer this question\n",
    "\"\"\"\n",
    "\n",
    "model = ChatOpenAI(model='gpt-4o-mini')\n",
    "\n",
    "messages = [\n",
    "    SystemMessage(content = \"You are helpful assistant.\"),\n",
    "    HumanMessage(content = combined_input),\n",
    "]\n",
    "\n",
    "result = model.invoke(messages)\n",
    "\n",
    "print(\"\\n--- Generated Response ---\")\n",
    "print(\"Content only:\\n\")\n",
    "print(result.content)"
   ]
  },
  {
   "cell_type": "code",
   "execution_count": null,
   "id": "2803117f",
   "metadata": {},
   "outputs": [],
   "source": []
  }
 ],
 "metadata": {
  "kernelspec": {
   "display_name": "Python 3",
   "language": "python",
   "name": "python3"
  },
  "language_info": {
   "codemirror_mode": {
    "name": "ipython",
    "version": 3
   },
   "file_extension": ".py",
   "mimetype": "text/x-python",
   "name": "python",
   "nbconvert_exporter": "python",
   "pygments_lexer": "ipython3",
   "version": "3.11.4"
  }
 },
 "nbformat": 4,
 "nbformat_minor": 5
}
